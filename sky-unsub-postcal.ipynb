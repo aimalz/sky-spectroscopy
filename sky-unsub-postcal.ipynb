{
 "metadata": {
  "name": "sky-unsub-postcal"
 },
 "nbformat": 3,
 "nbformat_minor": 0,
 "worksheets": [
  {
   "cells": [
    {
     "cell_type": "code",
     "collapsed": false,
     "input": [
      "import pyfits"
     ],
     "language": "python",
     "metadata": {},
     "outputs": [],
     "prompt_number": 1
    },
    {
     "cell_type": "code",
     "collapsed": false,
     "input": [
      "spCFtestr = pyfits.open('http://data.sdss3.org/sas/dr10/boss/spectro/redux/v5_5_12/5030/spCFrame-r1-00134439.fits')\n",
      "caldatr = spCFtestr[0].data\n",
      "calskyr = spCFtestr[6].data\n",
      "calwlr = spCFtestr[3].data\n",
      "spCFtestr.close()"
     ],
     "language": "python",
     "metadata": {},
     "outputs": [],
     "prompt_number": 2
    },
    {
     "cell_type": "code",
     "collapsed": false,
     "input": [
      "spCFtestb = pyfits.open('http://data.sdss3.org/sas/dr10/boss/spectro/redux/v5_5_12/5030/spCFrame-b1-00134439.fits')\n",
      "caldatb = spCFtestb[0].data\n",
      "calskyb = spCFtestb[6].data\n",
      "calwlb = spCFtestb[3].data\n",
      "spCFtestb.close()"
     ],
     "language": "python",
     "metadata": {},
     "outputs": [],
     "prompt_number": 3
    },
    {
     "cell_type": "code",
     "collapsed": false,
     "input": [
      "spFtestr = pyfits.open('http://data.sdss3.org/sas/dr10/boss/spectro/redux/v5_5_12/5030/spFrame-r1-00134439.fits.gz')\n",
      "ucdatr = spFtestr[0].data\n",
      "ucskyr = spFtestr[6].data\n",
      "ucwlr = spFtestr[3].data\n",
      "spFtestr.close()\n",
      "#spFtestr[3].header"
     ],
     "language": "python",
     "metadata": {},
     "outputs": [],
     "prompt_number": 34
    },
    {
     "cell_type": "code",
     "collapsed": false,
     "input": [
      "spFtestb = pyfits.open('http://data.sdss3.org/sas/dr10/boss/spectro/redux/v5_5_12/5030/spFrame-b1-00134439.fits.gz')\n",
      "ucdatb = spFtestb[0].data\n",
      "ucskyb = spFtestb[6].data\n",
      "ucwlb = spFtestb[3].data\n",
      "spFtestb.close()"
     ],
     "language": "python",
     "metadata": {},
     "outputs": [],
     "prompt_number": 35
    },
    {
     "cell_type": "code",
     "collapsed": false,
     "input": [
      "import numpy as np"
     ],
     "language": "python",
     "metadata": {},
     "outputs": [],
     "prompt_number": 85
    },
    {
     "cell_type": "code",
     "collapsed": false,
     "input": [
      "calcombr = [caldatr[i] + calskyr[i] for i in range(0,len(caldatr))]\n",
      "wltestr = [10**(x) for x in calwlr]\n",
      "\n",
      "calcombb = [caldatb[i] + calskyb[i] for i in range(0,len(caldatb))]\n",
      "wltestb = [10**(x) for x in calwlb]\n",
      "\n",
      "calsky = np.concatenate((calskyr,calskyb), axis=1)\n",
      "calcomb = np.concatenate((calcombr,calcombb), axis=1)\n",
      "wltest = np.concatenate((wltestr,wltestb), axis=1)"
     ],
     "language": "python",
     "metadata": {},
     "outputs": [],
     "prompt_number": 88
    },
    {
     "cell_type": "code",
     "collapsed": false,
     "input": [
      "uccombr = [ucdatr[i] + ucskyr[i] for i in range(0,len(ucdatr))]\n",
      "uccombb = [ucdatb[i] + ucskyb[i] for i in range(0,len(ucdatb))]\n",
      "\n",
      "ucsky = np.concatenate((ucskyr,ucskyb), axis=1)\n",
      "uccomb = np.concatenate((uccombr,uccombb), axis=1)"
     ],
     "language": "python",
     "metadata": {},
     "outputs": [],
     "prompt_number": 89
    },
    {
     "cell_type": "code",
     "collapsed": false,
     "input": [
      "import matplotlib as m\n",
      "import matplotlib.pyplot as plt\n",
      "#import matplotlib.patches as mpatches"
     ],
     "language": "python",
     "metadata": {},
     "outputs": [],
     "prompt_number": 6
    },
    {
     "cell_type": "code",
     "collapsed": false,
     "input": [
      "plt.figure(1)\n",
      "\n",
      "plt.subplot(131)\n",
      "plt.plot(wltest[1], calsky[1], color='k', label='sky spectrum')\n",
      "plt.plot(wltest[1], calcomb[1], color='g', label='summed spectra')\n",
      "plt.title('Calibrated (spCFrame) sky fiber')\n",
      "plt.legend(fontsize='small')\n",
      "\n",
      "\n",
      "plt.subplot(132)\n",
      "plt.plot(wltest[1], calsky[1], color='k', label='sky spectrum')\n",
      "plt.plot(wltest[1], calcomb[1], color='g', label='summed spectra')\n",
      "plt.xlim(5000,6000)\n",
      "plt.ylim(-50,500)\n",
      "plt.title('Calibrated (spCFrame) sky fiber')\n",
      "plt.legend(fontsize='small')\n",
      "#plt.show()\n",
      "\n",
      "plt.subplot(133)\n",
      "plt.plot(wltest[1], calsky[1], color='k', label='sky spectrum')\n",
      "plt.plot(wltest[1], calcomb[1], color='g', label='summed spectra')\n",
      "plt.xlim(7500,9500)\n",
      "plt.ylim(-50,500)\n",
      "plt.title('Calibrated (spCFrame) sky fiber')\n",
      "plt.legend(fontsize='small')\n",
      "\n",
      "plt.show()"
     ],
     "language": "python",
     "metadata": {},
     "outputs": [],
     "prompt_number": 90
    },
    {
     "cell_type": "code",
     "collapsed": false,
     "input": [
      "plt.figure(2)\n",
      "\n",
      "plt.subplot(131)\n",
      "plt.plot(wltest[10], calsky[10], color='k', label='sky spectrum')\n",
      "plt.plot(wltest[10], calcomb[10], color='g', label='summed spectra')\n",
      "plt.title('Calibrated (spCFrame) QSO fiber')\n",
      "plt.legend(fontsize='small')\n",
      "\n",
      "plt.subplot(132)\n",
      "plt.plot(wltest[10], calsky[10], color='k', label='sky spectrum')\n",
      "plt.plot(wltest[10], calcomb[10], color='g', label='summed spectra')\n",
      "plt.xlim(5000,6000)\n",
      "plt.ylim(-50,500)\n",
      "plt.title('Calibrated (spCFrame) QSO fiber')\n",
      "plt.legend(fontsize='small')\n",
      "\n",
      "plt.subplot(133)\n",
      "plt.plot(wltest[10], calsky[10], color='k', label='sky spectrum')\n",
      "plt.plot(wltest[10], calcomb[10], color='g', label='summed spectra')\n",
      "plt.xlim(7500,9500)\n",
      "plt.ylim(-50,500)\n",
      "plt.title('Calibrated (spCFrame) QSO fiber')\n",
      "plt.legend(fontsize='small')\n",
      "\n",
      "plt.show()"
     ],
     "language": "python",
     "metadata": {},
     "outputs": [],
     "prompt_number": 82
    },
    {
     "cell_type": "code",
     "collapsed": false,
     "input": [],
     "language": "python",
     "metadata": {},
     "outputs": []
    }
   ],
   "metadata": {}
  }
 ]
}